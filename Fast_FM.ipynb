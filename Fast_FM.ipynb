{
 "cells": [
  {
   "cell_type": "code",
   "execution_count": 90,
   "metadata": {},
   "outputs": [],
   "source": [
    "import numpy as np\n",
    "import pandas as pd\n",
    "from sklearn.metrics import roc_auc_score, mean_squared_error;\n",
    "from sklearn.model_selection import train_test_split,ShuffleSplit,GridSearchCV;\n",
    "from fastFM.mcmc import FMClassification, FMRegression;\n",
    "from sklearn.preprocessing import OneHotEncoder;\n",
    "from fastFM import als;\n",
    "from sklearn.feature_extraction.text import CountVectorizer;\n",
    "import gc;"
   ]
  },
  {
   "cell_type": "markdown",
   "metadata": {},
   "source": [
    "Doumentation : http://ibayer.github.io/fastFM/"
   ]
  },
  {
   "cell_type": "markdown",
   "metadata": {},
   "source": [
    "### Model A: Basic model with just userId and movieId"
   ]
  },
  {
   "cell_type": "code",
   "execution_count": 118,
   "metadata": {},
   "outputs": [],
   "source": [
    "def encode(trainX,testX):\n",
    "    \n",
    "    '''\n",
    "    Input : train and test sets\n",
    "    Output : One hot encoded datasets\n",
    "    '''\n",
    "    \n",
    "    encoder = OneHotEncoder(handle_unknown='ignore').fit(trainX)\n",
    "    trainX = encoder.transform(trainX)\n",
    "    testX = encoder.transform(testX)\n",
    "    \n",
    "    return trainX,testX"
   ]
  },
  {
   "cell_type": "code",
   "execution_count": 107,
   "metadata": {},
   "outputs": [
    {
     "data": {
      "text/plain": [
       "0.8771354587448218"
      ]
     },
     "execution_count": 107,
     "metadata": {},
     "output_type": "execute_result"
    }
   ],
   "source": [
    "ratings = np.genfromtxt('./ml-1m/ratings.dat',delimiter=\"::\")\n",
    "ratings =  pd.DataFrame(ratings)\n",
    "\n",
    "ratings.columns = ['userId','movieId','rating','timestamp']\n",
    "ratings = ratings.drop('timestamp', axis=1)\n",
    "\n",
    "y = ratings['rating'].values\n",
    "X = ratings.drop('rating', axis=1)\n",
    "\n",
    "trainX, testX, trainY, testY = train_test_split(X, y, test_size=0.20, random_state=1234)\n",
    "trainX, testX = encode(trainX,testX)\n",
    "\n",
    "cv = ShuffleSplit(n_splits=3, test_size= int(0.2 * trainX.shape[0]), random_state = 2018)\n",
    "\n",
    "\n",
    "estimator = als.FMRegression()\n",
    "\n",
    "params = {\n",
    "'n_iter' : np.arange(10,100,30),\n",
    "'rank' :  np.arange(2,12,4),\n",
    "'l2_reg_w': np.logspace(-6, -1, 3),\n",
    "'l2_reg_V' : np.logspace(-6, -1, 3)\n",
    "}\n",
    "\n",
    "###Gridsearch over parameters\n",
    "regressor = GridSearchCV(estimator=estimator , cv=cv, param_grid=params)\n",
    "regressor.fit(trainX, trainY)\n",
    "\n",
    "###get RMSE\n",
    "mean_squared_error(regressor.predict(testX),testY)**0.5"
   ]
  },
  {
   "cell_type": "markdown",
   "metadata": {},
   "source": [
    "### Model B : Adding user data, genre, year of movie"
   ]
  },
  {
   "cell_type": "code",
   "execution_count": 114,
   "metadata": {},
   "outputs": [
    {
     "name": "stderr",
     "output_type": "stream",
     "text": [
      "/home/som/anaconda3/lib/python3.6/site-packages/ipykernel_launcher.py:1: ParserWarning: Falling back to the 'python' engine because the 'c' engine does not support regex separators (separators > 1 char and different from '\\s+' are interpreted as regex); you can avoid this warning by specifying engine='python'.\n",
      "  \"\"\"Entry point for launching an IPython kernel.\n"
     ]
    },
    {
     "data": {
      "text/html": [
       "<div>\n",
       "<style scoped>\n",
       "    .dataframe tbody tr th:only-of-type {\n",
       "        vertical-align: middle;\n",
       "    }\n",
       "\n",
       "    .dataframe tbody tr th {\n",
       "        vertical-align: top;\n",
       "    }\n",
       "\n",
       "    .dataframe thead th {\n",
       "        text-align: right;\n",
       "    }\n",
       "</style>\n",
       "<table border=\"1\" class=\"dataframe\">\n",
       "  <thead>\n",
       "    <tr style=\"text-align: right;\">\n",
       "      <th></th>\n",
       "      <th>userId</th>\n",
       "      <th>gender</th>\n",
       "      <th>age</th>\n",
       "      <th>occupation</th>\n",
       "      <th>zip</th>\n",
       "    </tr>\n",
       "  </thead>\n",
       "  <tbody>\n",
       "    <tr>\n",
       "      <th>0</th>\n",
       "      <td>1</td>\n",
       "      <td>F</td>\n",
       "      <td>1</td>\n",
       "      <td>10</td>\n",
       "      <td>48067</td>\n",
       "    </tr>\n",
       "    <tr>\n",
       "      <th>1</th>\n",
       "      <td>2</td>\n",
       "      <td>M</td>\n",
       "      <td>56</td>\n",
       "      <td>16</td>\n",
       "      <td>70072</td>\n",
       "    </tr>\n",
       "    <tr>\n",
       "      <th>2</th>\n",
       "      <td>3</td>\n",
       "      <td>M</td>\n",
       "      <td>25</td>\n",
       "      <td>15</td>\n",
       "      <td>55117</td>\n",
       "    </tr>\n",
       "    <tr>\n",
       "      <th>3</th>\n",
       "      <td>4</td>\n",
       "      <td>M</td>\n",
       "      <td>45</td>\n",
       "      <td>7</td>\n",
       "      <td>02460</td>\n",
       "    </tr>\n",
       "    <tr>\n",
       "      <th>4</th>\n",
       "      <td>5</td>\n",
       "      <td>M</td>\n",
       "      <td>25</td>\n",
       "      <td>20</td>\n",
       "      <td>55455</td>\n",
       "    </tr>\n",
       "  </tbody>\n",
       "</table>\n",
       "</div>"
      ],
      "text/plain": [
       "   userId gender  age  occupation    zip\n",
       "0       1      F    1          10  48067\n",
       "1       2      M   56          16  70072\n",
       "2       3      M   25          15  55117\n",
       "3       4      M   45           7  02460\n",
       "4       5      M   25          20  55455"
      ]
     },
     "execution_count": 114,
     "metadata": {},
     "output_type": "execute_result"
    }
   ],
   "source": [
    "users = pd.read_csv('./ml-1m/users.dat', sep='::', names=['userId', 'gender', 'age', 'occupation', 'zip'], \\\n",
    "                    header=None)\n",
    "users.head()"
   ]
  },
  {
   "cell_type": "code",
   "execution_count": 145,
   "metadata": {},
   "outputs": [
    {
     "data": {
      "text/plain": [
       "6754"
      ]
     },
     "execution_count": 145,
     "metadata": {},
     "output_type": "execute_result"
    }
   ],
   "source": [
    "gc.collect()"
   ]
  },
  {
   "cell_type": "code",
   "execution_count": null,
   "metadata": {},
   "outputs": [],
   "source": [
    "movies = pd.read_csv('./ml-1m/movies.dat', sep='::', names=['movieId', 'title', 'genres'], header=None)\n",
    "movies.head()\n",
    "movies['year'] = movies.title.apply(lambda x : x[-5:-1])\n",
    "\n",
    "sparse_genres = pandas.DataFrame(CountVectorizer().fit_transform(movies.genres\\\n",
    "                                .map(lambda x: x.replace('|', ' '))).todense())\n",
    "\n",
    "movies = pandas.concat([movies[['movieId']], sparse_genres], axis=1) \n",
    "\n",
    "\n",
    "ratings = np.genfromtxt('./ml-1m/ratings.dat',delimiter=\"::\")\n",
    "ratings =  pd.DataFrame(ratings)\n",
    "\n",
    "ratings.columns = ['userId','movieId','rating','timestamp']\n",
    "ratings = ratings.drop('timestamp', axis=1)\n",
    "\n",
    "ratings = pandas.merge(pandas.merge(ratings, users, on='userId'), movies, on='movieId')\n",
    "\n",
    "\n",
    "y = ratings['rating'].values\n",
    "X = ratings.drop('rating', axis=1)\n",
    "\n",
    "for feature in X.columns:\n",
    "    _,X[feature] = numpy.unique(X[feature], return_inverse=True)\n",
    "\n",
    "trainX, testX, trainY, testY = train_test_split(X, y, test_size=0.20, random_state=1234)\n",
    "trainX, testX = encode(trainX,testX)\n",
    "cv = ShuffleSplit(n_splits=3, test_size= int(0.2 * trainX.shape[0]), random_state = 2018)\n",
    "estimator2 = als.FMRegression()\n",
    "\n",
    "params = {\n",
    "'n_iter' : np.arange(10,100,30),\n",
    "'rank' :  np.arange(2,12,4),\n",
    "'l2_reg_w': np.logspace(-6, -1, 3),\n",
    "'l2_reg_V' : np.logspace(-6, -1, 3)\n",
    "}\n",
    "\n",
    "###Gridsearch over parameters\n",
    "regressor2 = GridSearchCV(estimator=estimator2 , cv=cv, param_grid=params)\n",
    "regressor2.fit(trainX, trainY)\n",
    "\n",
    "###get RMSE\n",
    "mean_squared_error(regressor2.predict(testX),testY)**0.5"
   ]
  },
  {
   "cell_type": "code",
   "execution_count": null,
   "metadata": {},
   "outputs": [],
   "source": []
  }
 ],
 "metadata": {
  "kernelspec": {
   "display_name": "Python 3",
   "language": "python",
   "name": "python3"
  },
  "language_info": {
   "codemirror_mode": {
    "name": "ipython",
    "version": 3
   },
   "file_extension": ".py",
   "mimetype": "text/x-python",
   "name": "python",
   "nbconvert_exporter": "python",
   "pygments_lexer": "ipython3",
   "version": "3.6.5"
  }
 },
 "nbformat": 4,
 "nbformat_minor": 2
}
